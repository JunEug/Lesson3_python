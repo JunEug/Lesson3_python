{
 "cells": [
  {
   "cell_type": "code",
   "execution_count": null,
   "id": "47e08f2c",
   "metadata": {},
   "outputs": [],
   "source": []
  },
  {
   "cell_type": "code",
   "execution_count": 20,
   "id": "c5caaffa",
   "metadata": {},
   "outputs": [
    {
     "name": "stdout",
     "output_type": "stream",
     "text": [
      "Введите код валюты: AUD\n",
      "Name: Австралийский доллар\n",
      "Value: 59.8495\n"
     ]
    }
   ],
   "source": [
    "import requests\n",
    "import json\n",
    "\n",
    "def get_currency_value(currency_code):\n",
    "    url = 'https://www.cbr-xml-daily.ru/daily_json.js'\n",
    "    response = requests.get(url)\n",
    "    data = json.loads(response.text)\n",
    "    \n",
    "    if currency_code in data['Valute']:\n",
    "        currency_data = data['Valute'][currency_code]\n",
    "        name = currency_data['Name']\n",
    "        value = currency_data['Value']\n",
    "        print(f\"Name: {name}\\nValue: {value}\")\n",
    "    else:\n",
    "        print(\"Currency not found.\")\n",
    "\n",
    "# Пример использования\n",
    "currency_code = input(\"Введите код валюты: \")\n",
    "get_currency_value(currency_code)"
   ]
  },
  {
   "cell_type": "code",
   "execution_count": null,
   "id": "b640630c",
   "metadata": {},
   "outputs": [],
   "source": []
  },
  {
   "cell_type": "code",
   "execution_count": null,
   "id": "d1192dee",
   "metadata": {},
   "outputs": [],
   "source": []
  },
  {
   "cell_type": "code",
   "execution_count": null,
   "id": "27e7846f",
   "metadata": {},
   "outputs": [],
   "source": []
  }
 ],
 "metadata": {
  "kernelspec": {
   "display_name": "Python 3 (ipykernel)",
   "language": "python",
   "name": "python3"
  },
  "language_info": {
   "codemirror_mode": {
    "name": "ipython",
    "version": 3
   },
   "file_extension": ".py",
   "mimetype": "text/x-python",
   "name": "python",
   "nbconvert_exporter": "python",
   "pygments_lexer": "ipython3",
   "version": "3.11.5"
  }
 },
 "nbformat": 4,
 "nbformat_minor": 5
}
